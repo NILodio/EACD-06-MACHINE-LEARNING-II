{
  "nbformat": 4,
  "nbformat_minor": 0,
  "metadata": {
    "hide_input": false,
    "kernelspec": {
      "display_name": "Python 3",
      "language": "python",
      "name": "python3"
    },
    "language_info": {
      "codemirror_mode": {
        "name": "ipython",
        "version": 3
      },
      "file_extension": ".py",
      "mimetype": "text/x-python",
      "name": "python",
      "nbconvert_exporter": "python",
      "pygments_lexer": "ipython3",
      "version": "3.7.4"
    },
    "toc": {
      "base_numbering": 1,
      "nav_menu": {},
      "number_sections": false,
      "sideBar": true,
      "skip_h1_title": false,
      "title_cell": "Table of Contents",
      "title_sidebar": "Contents",
      "toc_cell": false,
      "toc_position": {},
      "toc_section_display": true,
      "toc_window_display": false
    },
    "colab": {
      "name": "Copy of 06 - [Taller] - Exploracion de algoritmos de deteccion de anomalias.ipynb",
      "provenance": [],
      "collapsed_sections": [],
      "toc_visible": true
    }
  },
  "cells": [
    {
      "cell_type": "code",
      "metadata": {
        "id": "ywebdTCv0px0"
      },
      "source": [
        "!wget --no-cache -O init.py -q https://raw.githubusercontent.com/UDEA-Esp-Analitica-y-Ciencia-de-Datos/EACD-06-MACHINE-LEARNING-II/master/init.py\n",
        "import init; init.init(force_download=False); "
      ],
      "execution_count": 103,
      "outputs": []
    },
    {
      "cell_type": "markdown",
      "metadata": {
        "id": "3rGdFSwk0px5"
      },
      "source": [
        "# Anomaly Detection Algorithms"
      ]
    },
    {
      "cell_type": "markdown",
      "metadata": {
        "id": "CE7iBMns0px5"
      },
      "source": [
        "# Dataset"
      ]
    },
    {
      "cell_type": "markdown",
      "metadata": {
        "id": "01WreyP00px6"
      },
      "source": [
        "Para aplicar las técnicas de detección de anomalías se trabajará con un dataset de dos descriptores tomados de un conjunto de servidores. Los descriptores son:<br>\n",
        " - throughput in mb/s\n",
        " - latency in ms of response for each server.\n",
        "\n",
        "Nota: Este dataset fue tomado del curso de Machine learning de Andrew Ng de Coursera"
      ]
    },
    {
      "cell_type": "markdown",
      "metadata": {
        "id": "qm3F4Oi90px6"
      },
      "source": [
        "El dataset consta de tres archivos csv, enunciados a continuación:\n",
        "\n",
        "- **tr_server_data.csv**: datos de entrenamiento, dos descriptores, sin headers. La primera columna es la latencia y la segunda es el throughput. No tiene salida esperada.\n",
        "\n",
        "- **cv_server_data.csv**: datos de cross-validation, dos descriptores, sin headers. La primera columna es la latencia y la segunda es el throughput. La salida esperada se encuentra en el archivo **gt_server_data.csv**.\n",
        "\n",
        "- **gt_server_data.csv**: Salida esperada del dataset **cv_server_data.csv**. [1 es anormal y 0 es normal]"
      ]
    },
    {
      "cell_type": "markdown",
      "metadata": {
        "id": "5twGDtQA0px6"
      },
      "source": [
        "Se importa el dataset"
      ]
    },
    {
      "cell_type": "code",
      "metadata": {
        "id": "5zGbPZgG0px7"
      },
      "source": [
        "import numpy as np\n",
        "import pandas as pd\n",
        "import matplotlib.pyplot as plt\n",
        "from sklearn import svm\n",
        "from sklearn.ensemble import IsolationForest\n",
        "from sklearn.metrics import f1_score\n",
        "from sklearn.base import BaseEstimator, OutlierMixin\n",
        "from sklearn.cluster import KMeans\n",
        "from scipy.stats import multivariate_normal\n",
        "from sklearn.neighbors import LocalOutlierFactor\n",
        "from sklearn.covariance import EllipticEnvelope\n",
        "from sklearn.ensemble import IsolationForest\n",
        "from sklearn.neighbors import LocalOutlierFactor\n",
        "from sklearn.model_selection import train_test_split\n",
        "from sklearn.ensemble import IsolationForest\n",
        "from sklearn.preprocessing import MinMaxScaler\n",
        "from sklearn.cluster import KMeans, MiniBatchKMeans, DBSCAN\n",
        "from sklearn.model_selection import GridSearchCV\n",
        "from sklearn.metrics import classification_report, confusion_matrix, r2_score, roc_auc_score \n",
        "from sklearn.metrics import homogeneity_score, silhouette_score \n",
        "from sklearn.pipeline import Pipeline\n",
        "from sklearn.metrics import precision_score\n",
        "from sklearn.metrics import recall_score\n",
        "from sklearn.metrics import fbeta_score, make_scorer\n",
        "from sklearn.model_selection import StratifiedKFold\n",
        "from sklearn.covariance import EllipticEnvelope"
      ],
      "execution_count": 104,
      "outputs": []
    },
    {
      "cell_type": "code",
      "metadata": {
        "id": "lstb5mlg0px7"
      },
      "source": [
        "columnas=['Latencia_ms','Throughput_mb_s']\n",
        "tr_data = pd.read_csv('local/data/anomalies/tr_server_data.csv',header=None,names=columnas)\n",
        "cv_data = pd.read_csv('local/data/anomalies/cv_server_data.csv',header=None,names=columnas)\n",
        "gt_data = pd.read_csv('local/data/anomalies/gt_server_data.csv',header=None,names=['Target'])"
      ],
      "execution_count": 105,
      "outputs": []
    },
    {
      "cell_type": "code",
      "metadata": {
        "id": "Jo4WSYmV0px7",
        "colab": {
          "base_uri": "https://localhost:8080/"
        },
        "outputId": "3f924125-82c1-4727-8a02-910b7c589bb2"
      },
      "source": [
        "print(tr_data.shape)"
      ],
      "execution_count": 106,
      "outputs": [
        {
          "output_type": "stream",
          "text": [
            "(307, 2)\n"
          ],
          "name": "stdout"
        }
      ]
    },
    {
      "cell_type": "code",
      "metadata": {
        "id": "AoFjdbC-0px8",
        "colab": {
          "base_uri": "https://localhost:8080/",
          "height": 194
        },
        "outputId": "9e28cf68-657a-4cf5-8851-da28ed738fbe"
      },
      "source": [
        "tr_data.head()"
      ],
      "execution_count": 107,
      "outputs": [
        {
          "output_type": "execute_result",
          "data": {
            "text/html": [
              "<div>\n",
              "<style scoped>\n",
              "    .dataframe tbody tr th:only-of-type {\n",
              "        vertical-align: middle;\n",
              "    }\n",
              "\n",
              "    .dataframe tbody tr th {\n",
              "        vertical-align: top;\n",
              "    }\n",
              "\n",
              "    .dataframe thead th {\n",
              "        text-align: right;\n",
              "    }\n",
              "</style>\n",
              "<table border=\"1\" class=\"dataframe\">\n",
              "  <thead>\n",
              "    <tr style=\"text-align: right;\">\n",
              "      <th></th>\n",
              "      <th>Latencia_ms</th>\n",
              "      <th>Throughput_mb_s</th>\n",
              "    </tr>\n",
              "  </thead>\n",
              "  <tbody>\n",
              "    <tr>\n",
              "      <th>0</th>\n",
              "      <td>13.047</td>\n",
              "      <td>14.741</td>\n",
              "    </tr>\n",
              "    <tr>\n",
              "      <th>1</th>\n",
              "      <td>13.409</td>\n",
              "      <td>13.763</td>\n",
              "    </tr>\n",
              "    <tr>\n",
              "      <th>2</th>\n",
              "      <td>14.196</td>\n",
              "      <td>15.853</td>\n",
              "    </tr>\n",
              "    <tr>\n",
              "      <th>3</th>\n",
              "      <td>14.915</td>\n",
              "      <td>16.174</td>\n",
              "    </tr>\n",
              "    <tr>\n",
              "      <th>4</th>\n",
              "      <td>13.577</td>\n",
              "      <td>14.043</td>\n",
              "    </tr>\n",
              "  </tbody>\n",
              "</table>\n",
              "</div>"
            ],
            "text/plain": [
              "   Latencia_ms  Throughput_mb_s\n",
              "0       13.047           14.741\n",
              "1       13.409           13.763\n",
              "2       14.196           15.853\n",
              "3       14.915           16.174\n",
              "4       13.577           14.043"
            ]
          },
          "metadata": {
            "tags": []
          },
          "execution_count": 107
        }
      ]
    },
    {
      "cell_type": "code",
      "metadata": {
        "id": "DbG-sUWE0px8",
        "colab": {
          "base_uri": "https://localhost:8080/"
        },
        "outputId": "47a1882b-e87b-40d3-8a49-ab405bc23150"
      },
      "source": [
        "gt_data['Target'].value_counts()"
      ],
      "execution_count": 108,
      "outputs": [
        {
          "output_type": "execute_result",
          "data": {
            "text/plain": [
              "0    298\n",
              "1      9\n",
              "Name: Target, dtype: int64"
            ]
          },
          "metadata": {
            "tags": []
          },
          "execution_count": 108
        }
      ]
    },
    {
      "cell_type": "markdown",
      "metadata": {
        "id": "Z_kV9FWJ0px9"
      },
      "source": [
        "Grafiquemos el dataset de entrenamiento"
      ]
    },
    {
      "cell_type": "code",
      "metadata": {
        "id": "Q4DkLpFs0px9",
        "colab": {
          "base_uri": "https://localhost:8080/",
          "height": 606
        },
        "outputId": "0ef7c662-7895-43a3-b8a7-dd7425f6b609"
      },
      "source": [
        "plt.figure(figsize=(10,10))\n",
        "plt.xlabel('Latencia_ms')\n",
        "plt.ylabel('Throughput_mb_s')\n",
        "s = 80\n",
        "b1 = plt.scatter(tr_data['Latencia_ms'],tr_data['Throughput_mb_s'], c='blue', s=s, edgecolors='k')\n",
        "plt.show()"
      ],
      "execution_count": 109,
      "outputs": [
        {
          "output_type": "display_data",
          "data": {
            "image/png": "[encoded data removed]",
            "text/plain": [
              "<Figure size 720x720 with 1 Axes>"
            ]
          },
          "metadata": {
            "tags": [],
            "needs_background": "light"
          }
        }
      ]
    },
    {
      "cell_type": "markdown",
      "metadata": {
        "id": "5G4egBse0px9"
      },
      "source": [
        "# Distribucion normal multivariada"
      ]
    },
    {
      "cell_type": "markdown",
      "metadata": {
        "id": "V8-6-aa60px9"
      },
      "source": [
        "Creemos la clase de nuestro modelo"
      ]
    },
    {
      "cell_type": "code",
      "metadata": {
        "id": "Ww_j_Lrr0px-"
      },
      "source": [
        "class MultivariateNormalDistribution(BaseEstimator, OutlierMixin):\n",
        "    \"\"\"\n",
        "    Algorithm for detecting outliers using the Multivariate Normal Distribution.\n",
        "    An example is an outlier if the probability under the distribution is above\n",
        "    some threshold.\n",
        "    \n",
        "    Parameters\n",
        "    ----------\n",
        "    ep : float, default=0.5\n",
        "        when the evaluation of Multivariate Normal Distribution in a point is upper \n",
        "        to this value, that point is considered an outlier\n",
        "    \"\"\"\n",
        "    def __init__(self, ep = 0.5):\n",
        "        self.ep = ep    \n",
        "    \n",
        "    def fit(self, X=None, y=None):\n",
        "        self.mu_ = np.mean(X, axis=0)\n",
        "        self.sigma_ = np.cov(X.T)\n",
        "        self.pmul = multivariate_normal(mean=self.mu_, cov=self.sigma_)\n",
        "        return self\n",
        "    \n",
        "    def predict(self, X=None):\n",
        "        p_ =  self.pmul.pdf(X)\n",
        "        return np.asarray(np.where(p_ < self.ep, -1, 1), dtype=np.int64)\n",
        "\n",
        "    def score_samples(self, X):\n",
        "        return self.pmul.pdf(X)"
      ],
      "execution_count": 110,
      "outputs": []
    },
    {
      "cell_type": "code",
      "metadata": {
        "id": "nABQLewc0px-"
      },
      "source": [
        "outlierdetector = MultivariateNormalDistribution(ep = 9.036201327981216e-05)\n",
        "outliers = outlierdetector.fit_predict(tr_data)"
      ],
      "execution_count": 111,
      "outputs": []
    },
    {
      "cell_type": "code",
      "metadata": {
        "id": "g51Sw3o50px-"
      },
      "source": [
        "outlier_raws = outliers == -1"
      ],
      "execution_count": 112,
      "outputs": []
    },
    {
      "cell_type": "code",
      "metadata": {
        "id": "19--zBL60px-",
        "colab": {
          "base_uri": "https://localhost:8080/",
          "height": 622
        },
        "outputId": "682d5267-3838-452a-a282-7606e734ae42"
      },
      "source": [
        "xx, yy = np.meshgrid(np.linspace(3, 26, 500), np.linspace(3, 26, 500))\n",
        "Z = -np.log10(outlierdetector.score_samples(np.c_[xx.ravel(), yy.ravel()]))\n",
        "Z = Z.reshape(xx.shape)\n",
        "\n",
        "plt.figure(figsize=(10,10))\n",
        "plt.title(\"Outlier Detection\")\n",
        "plt.contourf(xx, yy, Z,levels=11, cmap=plt.cm.Blues_r)\n",
        "s = 80\n",
        "b1 = plt.scatter(tr_data.values[:, 0], tr_data.values[:, 1], c='white', s=s, edgecolors='k')\n",
        "\n",
        "c = plt.scatter(tr_data.values[outlier_raws,0],tr_data.values[outlier_raws,1], c='red', s=s,\n",
        "                edgecolors='k')\n",
        "plt.axis('tight')\n",
        "plt.xlabel('Latencia_ms')\n",
        "plt.ylabel('Throughput_mb_s')\n",
        "plt.show()"
      ],
      "execution_count": 113,
      "outputs": [
        {
          "output_type": "display_data",
          "data": {
            "image/png": "[encoded data removed]",
            "text/plain": [
              "<Figure size 720x720 with 1 Axes>"
            ]
          },
          "metadata": {
            "tags": [],
            "needs_background": "light"
          }
        }
      ]
    },
    {
      "cell_type": "markdown",
      "metadata": {
        "id": "qtYfg3uF0px_"
      },
      "source": [
        "# One-class SVM"
      ]
    },
    {
      "cell_type": "code",
      "metadata": {
        "id": "XbSWo4Pi0px_",
        "colab": {
          "base_uri": "https://localhost:8080/"
        },
        "outputId": "7760945b-fcaf-4ed5-aaac-dd83698dc9de"
      },
      "source": [
        "clf = svm.OneClassSVM(nu=0.05, kernel=\"rbf\", gamma=0.1)\n",
        "clf.fit(tr_data)"
      ],
      "execution_count": 114,
      "outputs": [
        {
          "output_type": "execute_result",
          "data": {
            "text/plain": [
              "OneClassSVM(cache_size=200, coef0=0.0, degree=3, gamma=0.1, kernel='rbf',\n",
              "            max_iter=-1, nu=0.05, shrinking=True, tol=0.001, verbose=False)"
            ]
          },
          "metadata": {
            "tags": []
          },
          "execution_count": 114
        }
      ]
    },
    {
      "cell_type": "code",
      "metadata": {
        "id": "v2N79jC20px_"
      },
      "source": [
        "pred = clf.predict(tr_data)\n",
        "abnormal = tr_data[pred == -1]"
      ],
      "execution_count": 115,
      "outputs": []
    },
    {
      "cell_type": "code",
      "metadata": {
        "id": "C8oHhENP0px_",
        "colab": {
          "base_uri": "https://localhost:8080/",
          "height": 622
        },
        "outputId": "490b326e-c7f8-40ba-e6f9-b516dfd98dac"
      },
      "source": [
        "xx, yy = np.meshgrid(np.linspace(3, 26, 500), np.linspace(3, 26, 500))\n",
        "Z = clf.decision_function(np.c_[xx.ravel(), yy.ravel()])\n",
        "Z = Z.reshape(xx.shape)\n",
        "plt.figure(figsize=(10,10))\n",
        "plt.title(\"Outlier Detection\")\n",
        "plt.contourf(xx, yy, Z, levels=np.linspace(Z.min(), 0, 7), cmap=plt.cm.PuBu)\n",
        "a = plt.contour(xx, yy, Z, levels=[0], linewidths=2, colors='darkred')\n",
        "plt.contourf(xx, yy, Z, levels=[0, Z.max()], colors='palevioletred')\n",
        "\n",
        "s = 80\n",
        "b1 = plt.scatter(tr_data.values[:, 0], tr_data.values[:, 1], c='white', s=s, edgecolors='k')\n",
        "\n",
        "c = plt.scatter(abnormal['Latencia_ms'],abnormal['Throughput_mb_s'], c='red', s=s,\n",
        "                edgecolors='k')\n",
        "plt.axis('tight')\n",
        "plt.xlabel('Latencia_ms')\n",
        "plt.ylabel('Throughput_mb_s')\n",
        "plt.show()"
      ],
      "execution_count": 116,
      "outputs": [
        {
          "output_type": "display_data",
          "data": {
            "image/png": "[encoded data removed]",
            "text/plain": [
              "<Figure size 720x720 with 1 Axes>"
            ]
          },
          "metadata": {
            "tags": [],
            "needs_background": "light"
          }
        }
      ]
    },
    {
      "cell_type": "markdown",
      "metadata": {
        "id": "nFAXBCYk0pyA"
      },
      "source": [
        "# Clustering KMeans y heuristicas"
      ]
    },
    {
      "cell_type": "code",
      "metadata": {
        "id": "8YMXweXt0pyA"
      },
      "source": [
        "class KmeansOutlierDetector(BaseEstimator, OutlierMixin):\n",
        "    \"\"\"\n",
        "    Algorithm for detecting outliers using kmeans and the\n",
        "    distance between the points to their centroid. An example\n",
        "    is an outlier if the distance to its centroid is above some\n",
        "    threshold, which is computed as: q75 + (q75 - q25) * factor.\n",
        "\n",
        "    Parameters\n",
        "    ----------\n",
        "    k : int, default=1\n",
        "        The number of clusters to form as well as the number of centroids to\n",
        "        generate\n",
        "        \n",
        "    factor : float, default=1.5\n",
        "        a constant used to discern outliers used in the interquartile Rule to find\n",
        "        outliers       \n",
        "    \"\"\"    \n",
        "    \n",
        "    def __init__(self, k=1,factor=1.5):\n",
        "        self.k = k\n",
        "        self.factor = factor \n",
        "    \n",
        "    def fit(self, X=None, y=None):    \n",
        "        X_ = X.copy()\n",
        "        if isinstance(X_, pd.DataFrame):\n",
        "            X_ = X_.values \n",
        "        self.kmeans = KMeans(n_clusters=self.k).fit(X_)\n",
        "        dist_ = self.score_samples(X)\n",
        "        q75 = np.percentile(dist_, 75)\n",
        "        q25 = np.percentile(dist_, 25)\n",
        "        iqr = q75-q25\n",
        "        self.threshold_ = q75+iqr*self.factor\n",
        "        return self\n",
        "    \n",
        "    def predict(self, X=None):\n",
        "        dist = self.score_samples(X)\n",
        "        return np.asarray(np.where(dist >= self.threshold_, -1, 1), dtype=np.int64)\n",
        "    \n",
        "    def score_samples(self, X):\n",
        "        X_ = X.copy()\n",
        "        if isinstance(X_, pd.DataFrame):\n",
        "            X_ = X_.values \n",
        "        X_clusters = self.kmeans.predict(X_)\n",
        "        dist = np.linalg.norm(X_ - self.kmeans.cluster_centers_[X_clusters], axis=1)\n",
        "        return dist"
      ],
      "execution_count": 117,
      "outputs": []
    },
    {
      "cell_type": "code",
      "metadata": {
        "id": "pkYYGdGO0pyA"
      },
      "source": [
        "outlierdetector = KmeansOutlierDetector()"
      ],
      "execution_count": 118,
      "outputs": []
    },
    {
      "cell_type": "code",
      "metadata": {
        "id": "w3-yClUr0pyB",
        "colab": {
          "base_uri": "https://localhost:8080/"
        },
        "outputId": "40266596-a8c2-4ec9-8028-018348fd339a"
      },
      "source": [
        "outlierdetector.fit(X=tr_data)"
      ],
      "execution_count": 119,
      "outputs": [
        {
          "output_type": "execute_result",
          "data": {
            "text/plain": [
              "KmeansOutlierDetector(factor=1.5, k=1)"
            ]
          },
          "metadata": {
            "tags": []
          },
          "execution_count": 119
        }
      ]
    },
    {
      "cell_type": "code",
      "metadata": {
        "id": "7qSXeN590pyB",
        "colab": {
          "base_uri": "https://localhost:8080/",
          "height": 265
        },
        "outputId": "7c27b7f5-3606-4315-f581-dffddeb39a5e"
      },
      "source": [
        "box_plot_data=outlierdetector.score_samples(tr_data)\n",
        "plt.boxplot(box_plot_data)\n",
        "plt.show()"
      ],
      "execution_count": 120,
      "outputs": [
        {
          "output_type": "display_data",
          "data": {
            "image/png": "[encoded data removed]",
            "text/plain": [
              "<Figure size 432x288 with 1 Axes>"
            ]
          },
          "metadata": {
            "tags": [],
            "needs_background": "light"
          }
        }
      ]
    },
    {
      "cell_type": "code",
      "metadata": {
        "id": "9tAZmAgJ0pyB"
      },
      "source": [
        "outliers2 = outlierdetector.predict(X=tr_data)\n",
        "outlier_raws = outliers2 == -1"
      ],
      "execution_count": 121,
      "outputs": []
    },
    {
      "cell_type": "code",
      "metadata": {
        "id": "thbnyaVZ0pyC",
        "colab": {
          "base_uri": "https://localhost:8080/",
          "height": 639
        },
        "outputId": "3236278c-910d-44e4-fd5c-989fea417455"
      },
      "source": [
        "xx, yy = np.meshgrid(np.linspace(3, 26, 500), np.linspace(3, 26, 500))\n",
        "Z = outlierdetector.score_samples(np.c_[xx.ravel(), yy.ravel()])\n",
        "Z = Z.reshape(xx.shape)\n",
        "\n",
        "plt.figure(figsize=(10,10))\n",
        "plt.title(\"Outlier Detection\")\n",
        "plt.contourf(xx, yy, Z,levels=11, cmap=plt.cm.Blues_r)\n",
        "s = 80\n",
        "b1 = plt.scatter(tr_data.values[:, 0], tr_data.values[:, 1], c='white', s=s, edgecolors='k')\n",
        "\n",
        "c = plt.scatter(tr_data.values[outlier_raws,0],tr_data.values[outlier_raws,1], c='red', s=s,\n",
        "                edgecolors='k')\n",
        "plt.axis('tight')\n",
        "plt.xlabel('Latencia_ms')\n",
        "plt.ylabel('Throughput_mb_s')"
      ],
      "execution_count": 122,
      "outputs": [
        {
          "output_type": "execute_result",
          "data": {
            "text/plain": [
              "Text(0, 0.5, 'Throughput_mb_s')"
            ]
          },
          "metadata": {
            "tags": []
          },
          "execution_count": 122
        },
        {
          "output_type": "display_data",
          "data": {
            "image/png": "[encoded data removed]",
            "text/plain": [
              "<Figure size 720x720 with 1 Axes>"
            ]
          },
          "metadata": {
            "tags": [],
            "needs_background": "light"
          }
        }
      ]
    },
    {
      "cell_type": "markdown",
      "metadata": {
        "id": "tzlWxW3V0pyC"
      },
      "source": [
        "# Isolation Forest"
      ]
    },
    {
      "cell_type": "code",
      "metadata": {
        "id": "QMbE2eG40pyC",
        "colab": {
          "base_uri": "https://localhost:8080/"
        },
        "outputId": "10b0d057-f4fe-4457-cbea-c4fb0d624064"
      },
      "source": [
        "clf = IsolationForest(n_estimators=20, warm_start=True)\n",
        "clf.fit(tr_data)"
      ],
      "execution_count": 123,
      "outputs": [
        {
          "output_type": "execute_result",
          "data": {
            "text/plain": [
              "IsolationForest(behaviour='deprecated', bootstrap=False, contamination='auto',\n",
              "                max_features=1.0, max_samples='auto', n_estimators=20,\n",
              "                n_jobs=None, random_state=None, verbose=0, warm_start=True)"
            ]
          },
          "metadata": {
            "tags": []
          },
          "execution_count": 123
        }
      ]
    },
    {
      "cell_type": "code",
      "metadata": {
        "id": "Enh8tSkc0pyC"
      },
      "source": [
        "y_pred_train = clf.predict(tr_data)"
      ],
      "execution_count": 124,
      "outputs": []
    },
    {
      "cell_type": "code",
      "metadata": {
        "id": "-DB-2et20pyC"
      },
      "source": [
        "normal = tr_data[pred == 1]\n",
        "abnormal = tr_data[pred == -1]"
      ],
      "execution_count": 125,
      "outputs": []
    },
    {
      "cell_type": "code",
      "metadata": {
        "id": "ckj9Str30pyD",
        "colab": {
          "base_uri": "https://localhost:8080/",
          "height": 622
        },
        "outputId": "afb19477-dbc0-4eaa-d31a-c4ab988d1cfb"
      },
      "source": [
        "# https://scikit-learn.org/stable/auto_examples/ensemble/plot_isolation_forest.html#sphx-glr-auto-examples-ensemble-plot-isolation-forest-py\n",
        "# plot the line, the samples, and the nearest vectors to the plane\n",
        "xx, yy = np.meshgrid(np.linspace(0, 30, 50), np.linspace(0, 30, 50))\n",
        "Z = clf.decision_function(np.c_[xx.ravel(), yy.ravel()])\n",
        "Z = Z.reshape(xx.shape)\n",
        "plt.figure(figsize=(10,10))\n",
        "plt.title(\"IsolationForest\")\n",
        "plt.contourf(xx, yy, Z, cmap=plt.cm.Blues_r)\n",
        "\n",
        "s = 80\n",
        "b1 = plt.scatter(normal['Latencia_ms'],normal['Throughput_mb_s'], c='white',\n",
        "                 s=s, edgecolor='k')\n",
        "\n",
        "b2 = plt.scatter(abnormal['Latencia_ms'],abnormal['Throughput_mb_s'], c='red',\n",
        "                 s=s, edgecolor='k')\n",
        "plt.xlabel('Latencia_ms')\n",
        "plt.ylabel('Throughput_mb_s')\n",
        "plt.show()"
      ],
      "execution_count": 126,
      "outputs": [
        {
          "output_type": "display_data",
          "data": {
            "image/png": "[encoded data removed]",
            "text/plain": [
              "<Figure size 720x720 with 1 Axes>"
            ]
          },
          "metadata": {
            "tags": [],
            "needs_background": "light"
          }
        }
      ]
    },
    {
      "cell_type": "markdown",
      "metadata": {
        "id": "KFuXrzMV0pyD"
      },
      "source": [
        "# Local Outlier Factor"
      ]
    },
    {
      "cell_type": "code",
      "metadata": {
        "id": "APLLXXnx0pyD"
      },
      "source": [
        "clf = LocalOutlierFactor(n_neighbors=20, contamination=0.1)"
      ],
      "execution_count": 127,
      "outputs": []
    },
    {
      "cell_type": "code",
      "metadata": {
        "id": "-PwxlDiQ0pyD"
      },
      "source": [
        "y_pred = clf.fit_predict(tr_data)"
      ],
      "execution_count": 128,
      "outputs": []
    },
    {
      "cell_type": "code",
      "metadata": {
        "id": "OnI4Nsr40pyE"
      },
      "source": [
        "normal = tr_data[pred == 1]\n",
        "abnormal = tr_data[pred == -1]"
      ],
      "execution_count": 129,
      "outputs": []
    },
    {
      "cell_type": "code",
      "metadata": {
        "id": "RfN0Zme-0pyE",
        "colab": {
          "base_uri": "https://localhost:8080/",
          "height": 607
        },
        "outputId": "08cbd5af-b723-4edf-d5f6-1894ff7f6a4d"
      },
      "source": [
        "# https://scikit-learn.org/stable/auto_examples/neighbors/plot_lof_outlier_detection.html#sphx-glr-auto-examples-neighbors-plot-lof-outlier-detection-py\n",
        "# use fit_predict to compute the predicted labels of the training samples\n",
        "# (when LOF is used for outlier detection, the estimator has no predict,\n",
        "# decision_function and score_samples methods).\n",
        "y_pred = clf.fit_predict(tr_data)\n",
        "X_scores = clf.negative_outlier_factor_\n",
        "plt.figure(figsize=(10,10))\n",
        "plt.title(\"Local Outlier Factor (LOF)\")\n",
        "plt.scatter(tr_data['Latencia_ms'],tr_data['Throughput_mb_s'], color='k', s=3., label='Data points')\n",
        "# plot circles with radius proportional to the outlier scores\n",
        "radius = (X_scores.max() - X_scores) / (X_scores.max() - X_scores.min())\n",
        "plt.scatter(tr_data['Latencia_ms'],tr_data['Throughput_mb_s'], s=1000 * radius, edgecolors='r',\n",
        "            facecolors='none', label='Outlier scores')\n",
        "plt.axis('tight')\n",
        "legend = plt.legend(loc='upper left')\n",
        "legend.legendHandles[0]._sizes = [10]\n",
        "legend.legendHandles[1]._sizes = [20]\n",
        "plt.show()"
      ],
      "execution_count": 130,
      "outputs": [
        {
          "output_type": "display_data",
          "data": {
            "image/png": "[encoded data removed]",
            "text/plain": [
              "<Figure size 720x720 with 1 Axes>"
            ]
          },
          "metadata": {
            "tags": [],
            "needs_background": "light"
          }
        }
      ]
    },
    {
      "cell_type": "markdown",
      "metadata": {
        "id": "IZyMiWct0pyE"
      },
      "source": [
        "# Aplica lo aprendido con en el siguiente problema"
      ]
    },
    {
      "cell_type": "markdown",
      "metadata": {
        "id": "IbxVABVQ0pyE"
      },
      "source": [
        "- Este dataset fue descargado del curso Detección de fraudes en Python de DataCamp.<br>\n",
        "- El dataset contiene datos de transacciones de tarjetas de crédito.<br>\n",
        "- Los casos de fraude son la clase minoritaria en estas transacciones. ¿Qué metrica de desempeño usarias? Precision, recall, F1-score, etc.<br>\n",
        "- El nombre del archivo es: **banksim_adj.csv**\n",
        "- La etiqueta esta en la columna \"fraud\".\n",
        "- Los descriptores es_XXX, indican el concepto en el que se encuentra enmarcada la transacción, ejemplo: es_food, indica que la transacción esta dentro del concepto de comida."
      ]
    },
    {
      "cell_type": "code",
      "metadata": {
        "id": "FNCju0-y0pyF",
        "colab": {
          "base_uri": "https://localhost:8080/",
          "height": 230
        },
        "outputId": "9997a199-06d0-4a9f-87c8-3ae3158be1f8"
      },
      "source": [
        "bankdata = pd.read_csv('local/data/anomalies/banksim_adj.csv')\n",
        "bankdata.head()"
      ],
      "execution_count": 131,
      "outputs": [
        {
          "output_type": "execute_result",
          "data": {
            "text/html": [
              "<div>\n",
              "<style scoped>\n",
              "    .dataframe tbody tr th:only-of-type {\n",
              "        vertical-align: middle;\n",
              "    }\n",
              "\n",
              "    .dataframe tbody tr th {\n",
              "        vertical-align: top;\n",
              "    }\n",
              "\n",
              "    .dataframe thead th {\n",
              "        text-align: right;\n",
              "    }\n",
              "</style>\n",
              "<table border=\"1\" class=\"dataframe\">\n",
              "  <thead>\n",
              "    <tr style=\"text-align: right;\">\n",
              "      <th></th>\n",
              "      <th>Unnamed: 0</th>\n",
              "      <th>age</th>\n",
              "      <th>amount</th>\n",
              "      <th>fraud</th>\n",
              "      <th>M</th>\n",
              "      <th>es_barsandrestaurants</th>\n",
              "      <th>es_contents</th>\n",
              "      <th>es_fashion</th>\n",
              "      <th>es_food</th>\n",
              "      <th>es_health</th>\n",
              "      <th>es_home</th>\n",
              "      <th>es_hotelservices</th>\n",
              "      <th>es_hyper</th>\n",
              "      <th>es_leisure</th>\n",
              "      <th>es_otherservices</th>\n",
              "      <th>es_sportsandtoys</th>\n",
              "      <th>es_tech</th>\n",
              "      <th>es_transportation</th>\n",
              "      <th>es_travel</th>\n",
              "    </tr>\n",
              "  </thead>\n",
              "  <tbody>\n",
              "    <tr>\n",
              "      <th>0</th>\n",
              "      <td>0</td>\n",
              "      <td>3</td>\n",
              "      <td>49.71</td>\n",
              "      <td>0</td>\n",
              "      <td>0</td>\n",
              "      <td>0</td>\n",
              "      <td>0</td>\n",
              "      <td>0</td>\n",
              "      <td>0</td>\n",
              "      <td>0</td>\n",
              "      <td>0</td>\n",
              "      <td>0</td>\n",
              "      <td>0</td>\n",
              "      <td>0</td>\n",
              "      <td>0</td>\n",
              "      <td>0</td>\n",
              "      <td>0</td>\n",
              "      <td>1</td>\n",
              "      <td>0</td>\n",
              "    </tr>\n",
              "    <tr>\n",
              "      <th>1</th>\n",
              "      <td>1</td>\n",
              "      <td>4</td>\n",
              "      <td>39.29</td>\n",
              "      <td>0</td>\n",
              "      <td>0</td>\n",
              "      <td>0</td>\n",
              "      <td>0</td>\n",
              "      <td>0</td>\n",
              "      <td>0</td>\n",
              "      <td>1</td>\n",
              "      <td>0</td>\n",
              "      <td>0</td>\n",
              "      <td>0</td>\n",
              "      <td>0</td>\n",
              "      <td>0</td>\n",
              "      <td>0</td>\n",
              "      <td>0</td>\n",
              "      <td>0</td>\n",
              "      <td>0</td>\n",
              "    </tr>\n",
              "    <tr>\n",
              "      <th>2</th>\n",
              "      <td>2</td>\n",
              "      <td>3</td>\n",
              "      <td>18.76</td>\n",
              "      <td>0</td>\n",
              "      <td>0</td>\n",
              "      <td>0</td>\n",
              "      <td>0</td>\n",
              "      <td>0</td>\n",
              "      <td>0</td>\n",
              "      <td>0</td>\n",
              "      <td>0</td>\n",
              "      <td>0</td>\n",
              "      <td>0</td>\n",
              "      <td>0</td>\n",
              "      <td>0</td>\n",
              "      <td>0</td>\n",
              "      <td>0</td>\n",
              "      <td>1</td>\n",
              "      <td>0</td>\n",
              "    </tr>\n",
              "    <tr>\n",
              "      <th>3</th>\n",
              "      <td>3</td>\n",
              "      <td>4</td>\n",
              "      <td>13.95</td>\n",
              "      <td>0</td>\n",
              "      <td>1</td>\n",
              "      <td>0</td>\n",
              "      <td>0</td>\n",
              "      <td>0</td>\n",
              "      <td>0</td>\n",
              "      <td>0</td>\n",
              "      <td>0</td>\n",
              "      <td>0</td>\n",
              "      <td>0</td>\n",
              "      <td>0</td>\n",
              "      <td>0</td>\n",
              "      <td>0</td>\n",
              "      <td>0</td>\n",
              "      <td>1</td>\n",
              "      <td>0</td>\n",
              "    </tr>\n",
              "    <tr>\n",
              "      <th>4</th>\n",
              "      <td>4</td>\n",
              "      <td>2</td>\n",
              "      <td>49.87</td>\n",
              "      <td>0</td>\n",
              "      <td>1</td>\n",
              "      <td>0</td>\n",
              "      <td>0</td>\n",
              "      <td>0</td>\n",
              "      <td>0</td>\n",
              "      <td>0</td>\n",
              "      <td>0</td>\n",
              "      <td>0</td>\n",
              "      <td>0</td>\n",
              "      <td>0</td>\n",
              "      <td>0</td>\n",
              "      <td>0</td>\n",
              "      <td>0</td>\n",
              "      <td>1</td>\n",
              "      <td>0</td>\n",
              "    </tr>\n",
              "  </tbody>\n",
              "</table>\n",
              "</div>"
            ],
            "text/plain": [
              "   Unnamed: 0  age  amount  ...  es_tech  es_transportation  es_travel\n",
              "0           0    3   49.71  ...        0                  1          0\n",
              "1           1    4   39.29  ...        0                  0          0\n",
              "2           2    3   18.76  ...        0                  1          0\n",
              "3           3    4   13.95  ...        0                  1          0\n",
              "4           4    2   49.87  ...        0                  1          0\n",
              "\n",
              "[5 rows x 19 columns]"
            ]
          },
          "metadata": {
            "tags": []
          },
          "execution_count": 131
        }
      ]
    },
    {
      "cell_type": "code",
      "metadata": {
        "id": "Ra7ewbPJ0pyF"
      },
      "source": [
        "df = bankdata.copy()\r\n",
        "df.drop(['Unnamed: 0'] , axis=1, inplace=True)\r\n",
        "Y = df['fraud']\r\n",
        "df.drop('fraud', axis = 1, inplace=True)\r\n",
        "X = np.array(df).astype(np.float)"
      ],
      "execution_count": 132,
      "outputs": []
    },
    {
      "cell_type": "code",
      "metadata": {
        "id": "MMW5SNv3-AA4"
      },
      "source": [
        ""
      ],
      "execution_count": 132,
      "outputs": []
    },
    {
      "cell_type": "code",
      "metadata": {
        "colab": {
          "base_uri": "https://localhost:8080/"
        },
        "id": "AIzTLhR-_UzU",
        "outputId": "54b9894c-848f-485a-b138-cccc63ac2504"
      },
      "source": [
        "print(\"Valores Nulos del DataSet\")\r\n",
        "df.isnull().sum()"
      ],
      "execution_count": 133,
      "outputs": [
        {
          "output_type": "stream",
          "text": [
            "Valores Nulos del DataSet\n"
          ],
          "name": "stdout"
        },
        {
          "output_type": "execute_result",
          "data": {
            "text/plain": [
              "age                      0\n",
              "amount                   0\n",
              "M                        0\n",
              "es_barsandrestaurants    0\n",
              "es_contents              0\n",
              "es_fashion               0\n",
              "es_food                  0\n",
              "es_health                0\n",
              "es_home                  0\n",
              "es_hotelservices         0\n",
              "es_hyper                 0\n",
              "es_leisure               0\n",
              "es_otherservices         0\n",
              "es_sportsandtoys         0\n",
              "es_tech                  0\n",
              "es_transportation        0\n",
              "es_travel                0\n",
              "dtype: int64"
            ]
          },
          "metadata": {
            "tags": []
          },
          "execution_count": 133
        }
      ]
    },
    {
      "cell_type": "code",
      "metadata": {
        "id": "vjgU2RLf-cs8"
      },
      "source": [
        "X_train, X_test, y_train, y_test = train_test_split(X, Y, test_size=0.3, random_state=42, stratify = Y)"
      ],
      "execution_count": 134,
      "outputs": []
    },
    {
      "cell_type": "code",
      "metadata": {
        "colab": {
          "base_uri": "https://localhost:8080/"
        },
        "id": "dvkz_9Qm-cyG",
        "outputId": "336692aa-14f5-4a95-e35c-6f6e1e8afbcc"
      },
      "source": [
        "print(f\"Data {df.shape}\")\r\n",
        "print(f\"Train data {X_train.shape}\")\r\n",
        "print(f\"Test data {X_test.shape}\")"
      ],
      "execution_count": 135,
      "outputs": [
        {
          "output_type": "stream",
          "text": [
            "Data (7189, 17)\n",
            "Train data (5032, 17)\n",
            "Test data (2157, 17)\n"
          ],
          "name": "stdout"
        }
      ]
    },
    {
      "cell_type": "code",
      "metadata": {
        "id": "R-KALqU4_vkG"
      },
      "source": [
        "##\r\n",
        "\r\n",
        "# class sklearn.model_selection.GridSearchCV\r\n",
        "# (estimator, param_grid, *, scoring=None, n_jobs=None, \r\n",
        "#  refit=True, cv=None, verbose=0, pre_dispatch='2*n_jobs', \r\n",
        "#  error_score=nan, return_train_score=False)\r\n",
        "\r\n",
        "class Parameter_Estimator_GridSearch:\r\n",
        "\r\n",
        "  def __init__(self, models, params):\r\n",
        "\r\n",
        "    self.models = models\r\n",
        "    self.params = params\r\n",
        "    self.keys = models.keys()\r\n",
        "    self.gridSearch = {}\r\n",
        "\r\n",
        "  def fit(self, X, y , cv =3 , n_jobs = 3 , verbose = 1 , scoring = None, refit = False):\r\n",
        "\r\n",
        "    for key in self.keys:\r\n",
        "      print(f\"GridSearch for {key}\")\r\n",
        "      model = self.models[key]\r\n",
        "      param = self.params[key]\r\n",
        "\r\n",
        "      GS = GridSearchCV(\r\n",
        "          model , param , cv = cv , n_jobs = n_jobs,\r\n",
        "          verbose = verbose , scoring = scoring , refit = refit,\r\n",
        "          return_train_score = True\r\n",
        "      )\r\n",
        "      \r\n",
        "      GS.fit(X, y)\r\n",
        "\r\n",
        "      self.gridSearch[key] = GS\r\n",
        "    \r\n",
        "  def Summary_GridSearch(self, cv_n_splits , sort_by = 'mean_score'):\r\n",
        "\r\n",
        "    def row(key, scores , params):\r\n",
        "\r\n",
        "      p = {\r\n",
        "          \r\n",
        "          'estimator' : key,\r\n",
        "          'min_score' : min(scores),\r\n",
        "          'max_score' : max(scores),\r\n",
        "          'mean_score': np.mean(scores),\r\n",
        "          'std_score' : np.std(scores)          \r\n",
        "      }\r\n",
        "      return pd.Series({**params,**p})\r\n",
        "\r\n",
        "    rows = []\r\n",
        "\r\n",
        "    for j in self.gridSearch:\r\n",
        "\r\n",
        "      params = self.gridSearch[j].cv_results_['params']\r\n",
        "      scores = []\r\n",
        "\r\n",
        "      for i in range(cv_n_splits):\r\n",
        "\r\n",
        "        key = \"split{}_test_score\".format(i)\r\n",
        "        r = self.gridSearch[j].cv_results_[key]\r\n",
        "        scores.append(r.reshape(len(params),1))\r\n",
        "\r\n",
        "      all_scores = np.hstack(scores)\r\n",
        "\r\n",
        "      for r ,t in zip(params,all_scores):\r\n",
        "        rows.append((row(j,t,r)))\r\n",
        "    \r\n",
        "    df = pd.concat(rows, axis=1).T.sort_values([sort_by], ascending = False)\r\n",
        "\r\n",
        "    columns = ['estimator' , 'min_score' , 'mean_score', 'max_score','std_score']\r\n",
        "    columns = columns + [i for i in df.columns if i not in columns]\r\n",
        "\r\n",
        "    return df[columns]"
      ],
      "execution_count": 136,
      "outputs": []
    },
    {
      "cell_type": "code",
      "metadata": {
        "id": "0AqDkDrk2XpJ"
      },
      "source": [
        "### Metrica\r\n",
        "\r\n",
        "def precission_recall(y_true , y_pred):\r\n",
        "\r\n",
        "  y_pred_c = y_pred.copy()\r\n",
        "  y_pred_c[y_pred_c == 1] = 0\r\n",
        "  y_pred_c[y_pred_c == -1] = 1\r\n",
        "  precision = precision_score(y_true=y_true , y_pred=y_pred_c)\r\n",
        "\r\n",
        "  if (precision < 0.3):\r\n",
        "    return 0\r\n",
        "  return recall_score(y_true=y_true , y_pred=y_pred_c)"
      ],
      "execution_count": 137,
      "outputs": []
    },
    {
      "cell_type": "code",
      "metadata": {
        "id": "iffmKEs7G0_C"
      },
      "source": [
        "custom_scorer = make_scorer(score_func=precission_recall , greater_is_better=True)\r\n",
        "models = {\r\n",
        "    'KmeansOutlierDetectorOutlayer' : KmeansOutlierDetector(),\r\n",
        "    'IsolationForestOutlayer' : IsolationForest(),\r\n",
        "    'SVMOutlayers': svm.OneClassSVM(),\r\n",
        "    'RobustCovarianceOutlayer':EllipticEnvelope()\r\n",
        "}\r\n",
        "\r\n",
        "params = {\r\n",
        "    'KmeansOutlierDetectorOutlayer' : { 'k' : [1,2,3,4], 'factor' : [0.5,0.8,1, 1.4 ,2 , 2.2,7]},\r\n",
        "    'IsolationForestOutlayer' : {'n_estimators': [4,6,8,10] , 'max_samples' : [1000, 2000]},\r\n",
        "    'SVMOutlayers' : {'nu': [0.0001 , 0.001, 0.01, 0.02] , 'kernel': ['linear', 'poly', 'rbf', 'sigmoid']},\r\n",
        "    'RobustCovarianceOutlayer' : {'contamination':[0.001, 0.01 , 0.1, 0.25 ,0.15]}\r\n",
        "}\r\n"
      ],
      "execution_count": 138,
      "outputs": []
    },
    {
      "cell_type": "code",
      "metadata": {
        "colab": {
          "base_uri": "https://localhost:8080/"
        },
        "id": "AUmLdDP2Y4oQ",
        "outputId": "0f1fc6fb-0e40-466b-fe4c-275e84571c57"
      },
      "source": [
        "complete_models = Parameter_Estimator_GridSearch(models,params)\r\n",
        "complete_models.fit(X_train,y_train,scoring=custom_scorer,n_jobs=-1,cv= StratifiedKFold(n_splits=5))"
      ],
      "execution_count": 139,
      "outputs": [
        {
          "output_type": "stream",
          "text": [
            "GridSearch for KmeansOutlierDetectorOutlayer\n",
            "Fitting 5 folds for each of 28 candidates, totalling 140 fits\n"
          ],
          "name": "stdout"
        },
        {
          "output_type": "stream",
          "text": [
            "[Parallel(n_jobs=-1)]: Using backend LokyBackend with 2 concurrent workers.\n",
            "[Parallel(n_jobs=-1)]: Done  62 tasks      | elapsed:    4.5s\n",
            "[Parallel(n_jobs=-1)]: Done 140 out of 140 | elapsed:    9.1s finished\n",
            "[Parallel(n_jobs=-1)]: Using backend LokyBackend with 2 concurrent workers.\n"
          ],
          "name": "stderr"
        },
        {
          "output_type": "stream",
          "text": [
            "GridSearch for IsolationForestOutlayer\n",
            "Fitting 5 folds for each of 8 candidates, totalling 40 fits\n"
          ],
          "name": "stdout"
        },
        {
          "output_type": "stream",
          "text": [
            "[Parallel(n_jobs=-1)]: Done  40 out of  40 | elapsed:    1.2s finished\n",
            "[Parallel(n_jobs=-1)]: Using backend LokyBackend with 2 concurrent workers.\n"
          ],
          "name": "stderr"
        },
        {
          "output_type": "stream",
          "text": [
            "GridSearch for SVMOutlayers\n",
            "Fitting 5 folds for each of 16 candidates, totalling 80 fits\n"
          ],
          "name": "stdout"
        },
        {
          "output_type": "stream",
          "text": [
            "[Parallel(n_jobs=-1)]: Done  80 out of  80 | elapsed:    1.4s finished\n",
            "[Parallel(n_jobs=-1)]: Using backend LokyBackend with 2 concurrent workers.\n"
          ],
          "name": "stderr"
        },
        {
          "output_type": "stream",
          "text": [
            "GridSearch for RobustCovarianceOutlayer\n",
            "Fitting 5 folds for each of 5 candidates, totalling 25 fits\n"
          ],
          "name": "stdout"
        },
        {
          "output_type": "stream",
          "text": [
            "[Parallel(n_jobs=-1)]: Done  25 out of  25 | elapsed:    8.4s finished\n"
          ],
          "name": "stderr"
        }
      ]
    },
    {
      "cell_type": "code",
      "metadata": {
        "id": "NXJDyUwrZNqU"
      },
      "source": [
        "Grid_Search_Parameter = complete_models.Summary_GridSearch(5)"
      ],
      "execution_count": 140,
      "outputs": []
    },
    {
      "cell_type": "code",
      "metadata": {
        "colab": {
          "base_uri": "https://localhost:8080/",
          "height": 194
        },
        "id": "o5J2sW3Q-Woi",
        "outputId": "5bed0bf6-231d-48f9-c78b-6d09b65ec70e"
      },
      "source": [
        "Grid_Search_Parameter.head(5)"
      ],
      "execution_count": 141,
      "outputs": [
        {
          "output_type": "execute_result",
          "data": {
            "text/html": [
              "<div>\n",
              "<style scoped>\n",
              "    .dataframe tbody tr th:only-of-type {\n",
              "        vertical-align: middle;\n",
              "    }\n",
              "\n",
              "    .dataframe tbody tr th {\n",
              "        vertical-align: top;\n",
              "    }\n",
              "\n",
              "    .dataframe thead th {\n",
              "        text-align: right;\n",
              "    }\n",
              "</style>\n",
              "<table border=\"1\" class=\"dataframe\">\n",
              "  <thead>\n",
              "    <tr style=\"text-align: right;\">\n",
              "      <th></th>\n",
              "      <th>estimator</th>\n",
              "      <th>min_score</th>\n",
              "      <th>mean_score</th>\n",
              "      <th>max_score</th>\n",
              "      <th>std_score</th>\n",
              "      <th>factor</th>\n",
              "      <th>k</th>\n",
              "      <th>max_samples</th>\n",
              "      <th>n_estimators</th>\n",
              "      <th>kernel</th>\n",
              "      <th>nu</th>\n",
              "      <th>contamination</th>\n",
              "    </tr>\n",
              "  </thead>\n",
              "  <tbody>\n",
              "    <tr>\n",
              "      <th>8</th>\n",
              "      <td>KmeansOutlierDetectorOutlayer</td>\n",
              "      <td>0.75</td>\n",
              "      <td>0.792857</td>\n",
              "      <td>0.821429</td>\n",
              "      <td>0.0267261</td>\n",
              "      <td>1</td>\n",
              "      <td>1</td>\n",
              "      <td>NaN</td>\n",
              "      <td>NaN</td>\n",
              "      <td>NaN</td>\n",
              "      <td>NaN</td>\n",
              "      <td>NaN</td>\n",
              "    </tr>\n",
              "    <tr>\n",
              "      <th>12</th>\n",
              "      <td>KmeansOutlierDetectorOutlayer</td>\n",
              "      <td>0.75</td>\n",
              "      <td>0.785714</td>\n",
              "      <td>0.821429</td>\n",
              "      <td>0.0225877</td>\n",
              "      <td>1.4</td>\n",
              "      <td>1</td>\n",
              "      <td>NaN</td>\n",
              "      <td>NaN</td>\n",
              "      <td>NaN</td>\n",
              "      <td>NaN</td>\n",
              "      <td>NaN</td>\n",
              "    </tr>\n",
              "    <tr>\n",
              "      <th>16</th>\n",
              "      <td>KmeansOutlierDetectorOutlayer</td>\n",
              "      <td>0.714286</td>\n",
              "      <td>0.771429</td>\n",
              "      <td>0.821429</td>\n",
              "      <td>0.0364216</td>\n",
              "      <td>2</td>\n",
              "      <td>1</td>\n",
              "      <td>NaN</td>\n",
              "      <td>NaN</td>\n",
              "      <td>NaN</td>\n",
              "      <td>NaN</td>\n",
              "      <td>NaN</td>\n",
              "    </tr>\n",
              "    <tr>\n",
              "      <th>20</th>\n",
              "      <td>KmeansOutlierDetectorOutlayer</td>\n",
              "      <td>0.714286</td>\n",
              "      <td>0.764286</td>\n",
              "      <td>0.785714</td>\n",
              "      <td>0.0285714</td>\n",
              "      <td>2.2</td>\n",
              "      <td>1</td>\n",
              "      <td>NaN</td>\n",
              "      <td>NaN</td>\n",
              "      <td>NaN</td>\n",
              "      <td>NaN</td>\n",
              "      <td>NaN</td>\n",
              "    </tr>\n",
              "    <tr>\n",
              "      <th>14</th>\n",
              "      <td>KmeansOutlierDetectorOutlayer</td>\n",
              "      <td>0.642857</td>\n",
              "      <td>0.721429</td>\n",
              "      <td>0.785714</td>\n",
              "      <td>0.0473804</td>\n",
              "      <td>1.4</td>\n",
              "      <td>3</td>\n",
              "      <td>NaN</td>\n",
              "      <td>NaN</td>\n",
              "      <td>NaN</td>\n",
              "      <td>NaN</td>\n",
              "      <td>NaN</td>\n",
              "    </tr>\n",
              "  </tbody>\n",
              "</table>\n",
              "</div>"
            ],
            "text/plain": [
              "                        estimator min_score  ...   nu contamination\n",
              "8   KmeansOutlierDetectorOutlayer      0.75  ...  NaN           NaN\n",
              "12  KmeansOutlierDetectorOutlayer      0.75  ...  NaN           NaN\n",
              "16  KmeansOutlierDetectorOutlayer  0.714286  ...  NaN           NaN\n",
              "20  KmeansOutlierDetectorOutlayer  0.714286  ...  NaN           NaN\n",
              "14  KmeansOutlierDetectorOutlayer  0.642857  ...  NaN           NaN\n",
              "\n",
              "[5 rows x 12 columns]"
            ]
          },
          "metadata": {
            "tags": []
          },
          "execution_count": 141
        }
      ]
    },
    {
      "cell_type": "code",
      "metadata": {
        "id": "zWozxsatakvA",
        "colab": {
          "base_uri": "https://localhost:8080/",
          "height": 105
        },
        "outputId": "311af5c1-c991-4cd8-87f7-4182481afec8"
      },
      "source": [
        "####KmeansOutlierDetectorOutlayer\r\n",
        "Grid_Search_Parameter.loc[Grid_Search_Parameter['estimator'] =='KmeansOutlierDetectorOutlayer']\\\r\n",
        "                      .sort_values(by = ['max_score'],ascending = False).head(2)"
      ],
      "execution_count": 142,
      "outputs": [
        {
          "output_type": "execute_result",
          "data": {
            "text/html": [
              "<div>\n",
              "<style scoped>\n",
              "    .dataframe tbody tr th:only-of-type {\n",
              "        vertical-align: middle;\n",
              "    }\n",
              "\n",
              "    .dataframe tbody tr th {\n",
              "        vertical-align: top;\n",
              "    }\n",
              "\n",
              "    .dataframe thead th {\n",
              "        text-align: right;\n",
              "    }\n",
              "</style>\n",
              "<table border=\"1\" class=\"dataframe\">\n",
              "  <thead>\n",
              "    <tr style=\"text-align: right;\">\n",
              "      <th></th>\n",
              "      <th>estimator</th>\n",
              "      <th>min_score</th>\n",
              "      <th>mean_score</th>\n",
              "      <th>max_score</th>\n",
              "      <th>std_score</th>\n",
              "      <th>factor</th>\n",
              "      <th>k</th>\n",
              "      <th>max_samples</th>\n",
              "      <th>n_estimators</th>\n",
              "      <th>kernel</th>\n",
              "      <th>nu</th>\n",
              "      <th>contamination</th>\n",
              "    </tr>\n",
              "  </thead>\n",
              "  <tbody>\n",
              "    <tr>\n",
              "      <th>8</th>\n",
              "      <td>KmeansOutlierDetectorOutlayer</td>\n",
              "      <td>0.75</td>\n",
              "      <td>0.792857</td>\n",
              "      <td>0.821429</td>\n",
              "      <td>0.0267261</td>\n",
              "      <td>1</td>\n",
              "      <td>1</td>\n",
              "      <td>NaN</td>\n",
              "      <td>NaN</td>\n",
              "      <td>NaN</td>\n",
              "      <td>NaN</td>\n",
              "      <td>NaN</td>\n",
              "    </tr>\n",
              "    <tr>\n",
              "      <th>16</th>\n",
              "      <td>KmeansOutlierDetectorOutlayer</td>\n",
              "      <td>0.714286</td>\n",
              "      <td>0.771429</td>\n",
              "      <td>0.821429</td>\n",
              "      <td>0.0364216</td>\n",
              "      <td>2</td>\n",
              "      <td>1</td>\n",
              "      <td>NaN</td>\n",
              "      <td>NaN</td>\n",
              "      <td>NaN</td>\n",
              "      <td>NaN</td>\n",
              "      <td>NaN</td>\n",
              "    </tr>\n",
              "  </tbody>\n",
              "</table>\n",
              "</div>"
            ],
            "text/plain": [
              "                        estimator min_score  ...   nu contamination\n",
              "8   KmeansOutlierDetectorOutlayer      0.75  ...  NaN           NaN\n",
              "16  KmeansOutlierDetectorOutlayer  0.714286  ...  NaN           NaN\n",
              "\n",
              "[2 rows x 12 columns]"
            ]
          },
          "metadata": {
            "tags": []
          },
          "execution_count": 142
        }
      ]
    },
    {
      "cell_type": "code",
      "metadata": {
        "colab": {
          "base_uri": "https://localhost:8080/",
          "height": 105
        },
        "id": "V2W67np--Hr9",
        "outputId": "6cffdd87-3412-49b2-97ee-7b5350b294ba"
      },
      "source": [
        "####IsolationForestOutlayer\r\n",
        "Grid_Search_Parameter.loc[Grid_Search_Parameter['estimator'] =='IsolationForestOutlayer']\\\r\n",
        "                      .sort_values(by = ['max_score'],ascending = False).head(2)"
      ],
      "execution_count": 143,
      "outputs": [
        {
          "output_type": "execute_result",
          "data": {
            "text/html": [
              "<div>\n",
              "<style scoped>\n",
              "    .dataframe tbody tr th:only-of-type {\n",
              "        vertical-align: middle;\n",
              "    }\n",
              "\n",
              "    .dataframe tbody tr th {\n",
              "        vertical-align: top;\n",
              "    }\n",
              "\n",
              "    .dataframe thead th {\n",
              "        text-align: right;\n",
              "    }\n",
              "</style>\n",
              "<table border=\"1\" class=\"dataframe\">\n",
              "  <thead>\n",
              "    <tr style=\"text-align: right;\">\n",
              "      <th></th>\n",
              "      <th>estimator</th>\n",
              "      <th>min_score</th>\n",
              "      <th>mean_score</th>\n",
              "      <th>max_score</th>\n",
              "      <th>std_score</th>\n",
              "      <th>factor</th>\n",
              "      <th>k</th>\n",
              "      <th>max_samples</th>\n",
              "      <th>n_estimators</th>\n",
              "      <th>kernel</th>\n",
              "      <th>nu</th>\n",
              "      <th>contamination</th>\n",
              "    </tr>\n",
              "  </thead>\n",
              "  <tbody>\n",
              "    <tr>\n",
              "      <th>28</th>\n",
              "      <td>IsolationForestOutlayer</td>\n",
              "      <td>0</td>\n",
              "      <td>0.328571</td>\n",
              "      <td>0.964286</td>\n",
              "      <td>0.412434</td>\n",
              "      <td>NaN</td>\n",
              "      <td>NaN</td>\n",
              "      <td>1000</td>\n",
              "      <td>4</td>\n",
              "      <td>NaN</td>\n",
              "      <td>NaN</td>\n",
              "      <td>NaN</td>\n",
              "    </tr>\n",
              "    <tr>\n",
              "      <th>35</th>\n",
              "      <td>IsolationForestOutlayer</td>\n",
              "      <td>0</td>\n",
              "      <td>0.142857</td>\n",
              "      <td>0.714286</td>\n",
              "      <td>0.285714</td>\n",
              "      <td>NaN</td>\n",
              "      <td>NaN</td>\n",
              "      <td>2000</td>\n",
              "      <td>10</td>\n",
              "      <td>NaN</td>\n",
              "      <td>NaN</td>\n",
              "      <td>NaN</td>\n",
              "    </tr>\n",
              "  </tbody>\n",
              "</table>\n",
              "</div>"
            ],
            "text/plain": [
              "                  estimator min_score mean_score  ... kernel   nu contamination\n",
              "28  IsolationForestOutlayer         0   0.328571  ...    NaN  NaN           NaN\n",
              "35  IsolationForestOutlayer         0   0.142857  ...    NaN  NaN           NaN\n",
              "\n",
              "[2 rows x 12 columns]"
            ]
          },
          "metadata": {
            "tags": []
          },
          "execution_count": 143
        }
      ]
    },
    {
      "cell_type": "code",
      "metadata": {
        "colab": {
          "base_uri": "https://localhost:8080/",
          "height": 105
        },
        "id": "KcGRd1DlBycD",
        "outputId": "b495b12c-9d16-486d-ead6-53d1dec5eed8"
      },
      "source": [
        "####SVMOutlayers\r\n",
        "Grid_Search_Parameter.loc[Grid_Search_Parameter['estimator'] =='SVMOutlayers']\\\r\n",
        "                      .sort_values(by = ['max_score'],ascending = False).head(2)"
      ],
      "execution_count": 144,
      "outputs": [
        {
          "output_type": "execute_result",
          "data": {
            "text/html": [
              "<div>\n",
              "<style scoped>\n",
              "    .dataframe tbody tr th:only-of-type {\n",
              "        vertical-align: middle;\n",
              "    }\n",
              "\n",
              "    .dataframe tbody tr th {\n",
              "        vertical-align: top;\n",
              "    }\n",
              "\n",
              "    .dataframe thead th {\n",
              "        text-align: right;\n",
              "    }\n",
              "</style>\n",
              "<table border=\"1\" class=\"dataframe\">\n",
              "  <thead>\n",
              "    <tr style=\"text-align: right;\">\n",
              "      <th></th>\n",
              "      <th>estimator</th>\n",
              "      <th>min_score</th>\n",
              "      <th>mean_score</th>\n",
              "      <th>max_score</th>\n",
              "      <th>std_score</th>\n",
              "      <th>factor</th>\n",
              "      <th>k</th>\n",
              "      <th>max_samples</th>\n",
              "      <th>n_estimators</th>\n",
              "      <th>kernel</th>\n",
              "      <th>nu</th>\n",
              "      <th>contamination</th>\n",
              "    </tr>\n",
              "  </thead>\n",
              "  <tbody>\n",
              "    <tr>\n",
              "      <th>47</th>\n",
              "      <td>SVMOutlayers</td>\n",
              "      <td>0</td>\n",
              "      <td>0.178571</td>\n",
              "      <td>0.357143</td>\n",
              "      <td>0.14983</td>\n",
              "      <td>NaN</td>\n",
              "      <td>NaN</td>\n",
              "      <td>NaN</td>\n",
              "      <td>NaN</td>\n",
              "      <td>rbf</td>\n",
              "      <td>0.02</td>\n",
              "      <td>NaN</td>\n",
              "    </tr>\n",
              "    <tr>\n",
              "      <th>46</th>\n",
              "      <td>SVMOutlayers</td>\n",
              "      <td>0</td>\n",
              "      <td>0.107143</td>\n",
              "      <td>0.25</td>\n",
              "      <td>0.105946</td>\n",
              "      <td>NaN</td>\n",
              "      <td>NaN</td>\n",
              "      <td>NaN</td>\n",
              "      <td>NaN</td>\n",
              "      <td>rbf</td>\n",
              "      <td>0.01</td>\n",
              "      <td>NaN</td>\n",
              "    </tr>\n",
              "  </tbody>\n",
              "</table>\n",
              "</div>"
            ],
            "text/plain": [
              "       estimator min_score mean_score  ... kernel    nu contamination\n",
              "47  SVMOutlayers         0   0.178571  ...    rbf  0.02           NaN\n",
              "46  SVMOutlayers         0   0.107143  ...    rbf  0.01           NaN\n",
              "\n",
              "[2 rows x 12 columns]"
            ]
          },
          "metadata": {
            "tags": []
          },
          "execution_count": 144
        }
      ]
    },
    {
      "cell_type": "code",
      "metadata": {
        "colab": {
          "base_uri": "https://localhost:8080/",
          "height": 105
        },
        "id": "LkappRGhB8IH",
        "outputId": "e046955d-e173-4973-b64d-97b6a4bdedf6"
      },
      "source": [
        "####RobustCovarianceOutlayer\r\n",
        "Grid_Search_Parameter.loc[Grid_Search_Parameter['estimator'] =='RobustCovarianceOutlayer']\\\r\n",
        "                      .sort_values(by = ['max_score'],ascending = False).head(2)"
      ],
      "execution_count": 145,
      "outputs": [
        {
          "output_type": "execute_result",
          "data": {
            "text/html": [
              "<div>\n",
              "<style scoped>\n",
              "    .dataframe tbody tr th:only-of-type {\n",
              "        vertical-align: middle;\n",
              "    }\n",
              "\n",
              "    .dataframe tbody tr th {\n",
              "        vertical-align: top;\n",
              "    }\n",
              "\n",
              "    .dataframe thead th {\n",
              "        text-align: right;\n",
              "    }\n",
              "</style>\n",
              "<table border=\"1\" class=\"dataframe\">\n",
              "  <thead>\n",
              "    <tr style=\"text-align: right;\">\n",
              "      <th></th>\n",
              "      <th>estimator</th>\n",
              "      <th>min_score</th>\n",
              "      <th>mean_score</th>\n",
              "      <th>max_score</th>\n",
              "      <th>std_score</th>\n",
              "      <th>factor</th>\n",
              "      <th>k</th>\n",
              "      <th>max_samples</th>\n",
              "      <th>n_estimators</th>\n",
              "      <th>kernel</th>\n",
              "      <th>nu</th>\n",
              "      <th>contamination</th>\n",
              "    </tr>\n",
              "  </thead>\n",
              "  <tbody>\n",
              "    <tr>\n",
              "      <th>53</th>\n",
              "      <td>RobustCovarianceOutlayer</td>\n",
              "      <td>0.285714</td>\n",
              "      <td>0.328571</td>\n",
              "      <td>0.357143</td>\n",
              "      <td>0.0267261</td>\n",
              "      <td>NaN</td>\n",
              "      <td>NaN</td>\n",
              "      <td>NaN</td>\n",
              "      <td>NaN</td>\n",
              "      <td>NaN</td>\n",
              "      <td>NaN</td>\n",
              "      <td>0.01</td>\n",
              "    </tr>\n",
              "    <tr>\n",
              "      <th>52</th>\n",
              "      <td>RobustCovarianceOutlayer</td>\n",
              "      <td>0.0357143</td>\n",
              "      <td>0.0785714</td>\n",
              "      <td>0.178571</td>\n",
              "      <td>0.0524891</td>\n",
              "      <td>NaN</td>\n",
              "      <td>NaN</td>\n",
              "      <td>NaN</td>\n",
              "      <td>NaN</td>\n",
              "      <td>NaN</td>\n",
              "      <td>NaN</td>\n",
              "      <td>0.001</td>\n",
              "    </tr>\n",
              "  </tbody>\n",
              "</table>\n",
              "</div>"
            ],
            "text/plain": [
              "                   estimator  min_score mean_score  ... kernel   nu contamination\n",
              "53  RobustCovarianceOutlayer   0.285714   0.328571  ...    NaN  NaN          0.01\n",
              "52  RobustCovarianceOutlayer  0.0357143  0.0785714  ...    NaN  NaN         0.001\n",
              "\n",
              "[2 rows x 12 columns]"
            ]
          },
          "metadata": {
            "tags": []
          },
          "execution_count": 145
        }
      ]
    },
    {
      "cell_type": "code",
      "metadata": {
        "id": "i_-ey64yCwIT"
      },
      "source": [
        "### Best Models\r\n",
        "\r\n",
        "b_kmeans = KmeansOutlierDetector(k=1,factor=1)\r\n",
        "b_kmeans.fit(X_train)\r\n",
        "b_insolation = IsolationForest(n_estimators=4 , max_samples=1000)\r\n",
        "b_insolation.fit(X_train)\r\n",
        "b_svm = svm.OneClassSVM(kernel = 'rbf' , nu=0.02)\r\n",
        "b_svm.fit(X_train)\r\n",
        "b_robust_cov = EllipticEnvelope(contamination=0.01)\r\n",
        "b_robust_cov.fit(X_train)\r\n",
        "\r\n",
        "b_models = {\r\n",
        "    'KmeansOutlierDetectorOutlayer' : b_kmeans,\r\n",
        "    'IsolationForestOutlayer' : b_insolation,\r\n",
        "    'SVMOutlayers' : b_svm,\r\n",
        "    'RobustCovarianceOutlayer' : b_robust_cov\r\n",
        "}\r\n"
      ],
      "execution_count": 149,
      "outputs": []
    },
    {
      "cell_type": "code",
      "metadata": {
        "id": "YpSaZw5bC8u8"
      },
      "source": [
        "###### Predict Model\r\n",
        "\r\n",
        "row = []\r\n",
        "for k in b_models.keys():\r\n",
        "  y_pred = b_models[k].predict(X_test)\r\n",
        "  y_pred_copy = y_pred.copy()\r\n",
        "  y_pred_copy[y_pred_copy == 1] = 0\r\n",
        "  y_pred_copy[y_pred_copy == -1] = 1\r\n",
        "\r\n",
        "  metrics = {\r\n",
        "     'OutLayerEstimator' : k,\r\n",
        "     'custom_metric' : precission_recall(y_true=y_test,y_pred=y_pred),\r\n",
        "     'recall' : recall_score(y_true=y_test , y_pred=y_pred_copy),\r\n",
        "     'Precision' : precision_score(y_true=y_test,y_pred=y_pred_copy),\r\n",
        "     'f1' : f1_score(y_true=y_test,y_pred=y_pred_copy),\r\n",
        "  }\r\n",
        "  row.append(pd.Series({**metrics}))\r\n",
        "\r\n"
      ],
      "execution_count": 150,
      "outputs": []
    },
    {
      "cell_type": "code",
      "metadata": {
        "colab": {
          "base_uri": "https://localhost:8080/",
          "height": 164
        },
        "id": "RoDl9HhtC8yX",
        "outputId": "52ec904e-5a49-4b46-e296-78f75b4cfac6"
      },
      "source": [
        "pd.concat(row, axis=1).T"
      ],
      "execution_count": 151,
      "outputs": [
        {
          "output_type": "execute_result",
          "data": {
            "text/html": [
              "<div>\n",
              "<style scoped>\n",
              "    .dataframe tbody tr th:only-of-type {\n",
              "        vertical-align: middle;\n",
              "    }\n",
              "\n",
              "    .dataframe tbody tr th {\n",
              "        vertical-align: top;\n",
              "    }\n",
              "\n",
              "    .dataframe thead th {\n",
              "        text-align: right;\n",
              "    }\n",
              "</style>\n",
              "<table border=\"1\" class=\"dataframe\">\n",
              "  <thead>\n",
              "    <tr style=\"text-align: right;\">\n",
              "      <th></th>\n",
              "      <th>OutLayerEstimator</th>\n",
              "      <th>custom_metric</th>\n",
              "      <th>recall</th>\n",
              "      <th>Precision</th>\n",
              "      <th>f1</th>\n",
              "    </tr>\n",
              "  </thead>\n",
              "  <tbody>\n",
              "    <tr>\n",
              "      <th>0</th>\n",
              "      <td>KmeansOutlierDetectorOutlayer</td>\n",
              "      <td>0.95</td>\n",
              "      <td>0.95</td>\n",
              "      <td>0.407143</td>\n",
              "      <td>0.57</td>\n",
              "    </tr>\n",
              "    <tr>\n",
              "      <th>1</th>\n",
              "      <td>IsolationForestOutlayer</td>\n",
              "      <td>0</td>\n",
              "      <td>0.783333</td>\n",
              "      <td>0.177358</td>\n",
              "      <td>0.289231</td>\n",
              "    </tr>\n",
              "    <tr>\n",
              "      <th>2</th>\n",
              "      <td>SVMOutlayers</td>\n",
              "      <td>0.3</td>\n",
              "      <td>0.3</td>\n",
              "      <td>0.339623</td>\n",
              "      <td>0.318584</td>\n",
              "    </tr>\n",
              "    <tr>\n",
              "      <th>3</th>\n",
              "      <td>RobustCovarianceOutlayer</td>\n",
              "      <td>0.383333</td>\n",
              "      <td>0.383333</td>\n",
              "      <td>0.821429</td>\n",
              "      <td>0.522727</td>\n",
              "    </tr>\n",
              "  </tbody>\n",
              "</table>\n",
              "</div>"
            ],
            "text/plain": [
              "               OutLayerEstimator custom_metric    recall Precision        f1\n",
              "0  KmeansOutlierDetectorOutlayer          0.95      0.95  0.407143      0.57\n",
              "1        IsolationForestOutlayer             0  0.783333  0.177358  0.289231\n",
              "2                   SVMOutlayers           0.3       0.3  0.339623  0.318584\n",
              "3       RobustCovarianceOutlayer      0.383333  0.383333  0.821429  0.522727"
            ]
          },
          "metadata": {
            "tags": []
          },
          "execution_count": 151
        }
      ]
    },
    {
      "cell_type": "markdown",
      "metadata": {
        "id": "PIMI9e-CKTy8"
      },
      "source": [
        "El modelo de Kmeans presento mejores resultados en recall, sin embargo ningun modelo la presicion supero (0.5), lo que nos lleva a identificar que muchas datos que no son outlayer son tomados erroniamente (Varias transaciones fueron catalogadas como fraude aunque no lo sean )\r\n",
        "\r\n",
        "¡Posibles Causas de Error!\r\n",
        "\r\n",
        "1.   El desbalance de los datos es muy representativo\r\n",
        "2.   Pocas características\r\n",
        "\r\n",
        "\r\n",
        "\r\n",
        "\r\n"
      ]
    },
    {
      "cell_type": "code",
      "metadata": {
        "id": "AfZizYqLLJMb"
      },
      "source": [
        ""
      ],
      "execution_count": null,
      "outputs": []
    }
  ]
}